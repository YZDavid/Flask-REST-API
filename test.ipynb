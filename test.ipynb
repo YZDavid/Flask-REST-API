{
 "cells": [
  {
   "cell_type": "code",
   "execution_count": 40,
   "metadata": {},
   "outputs": [],
   "source": [
    "import requests"
   ]
  },
  {
   "cell_type": "code",
   "execution_count": 41,
   "metadata": {},
   "outputs": [],
   "source": [
    "BASE = 'http://localhost:5000/'"
   ]
  },
  {
   "cell_type": "code",
   "execution_count": 42,
   "metadata": {},
   "outputs": [],
   "source": [
    "data = [\n",
    "    {'likes': 10, 'views': 2000, 'name': 'My first video'},\n",
    "    {'likes': 1069, 'views': 666777, 'name': 'How 2 git gud at DE:UK'},\n",
    "    {'likes': 42069, 'views': 694201337, 'name': '1337 API Tutorial'}\n",
    "]"
   ]
  },
  {
   "cell_type": "code",
   "execution_count": 66,
   "metadata": {},
   "outputs": [
    {
     "name": "stdout",
     "output_type": "stream",
     "text": [
      "{'message': 'Video ID already exists'}\n",
      "409 : CONFLICT\n",
      "{'id': 1, 'name': 'How 2 git gud at DE:UK', 'views': 666777, 'likes': 1069}\n",
      "201 : CREATED\n",
      "{'id': 2, 'name': '1337 API Tutorial', 'views': 694201337, 'likes': 42069}\n",
      "201 : CREATED\n"
     ]
    }
   ],
   "source": [
    "for i in range(len(data)):\n",
    "    put_response = requests.put(BASE + 'video/' + str(i), data[i])\n",
    "    print(put_response.json())\n",
    "    print(put_response.status_code, ':', put_response.reason)"
   ]
  },
  {
   "cell_type": "code",
   "execution_count": 72,
   "metadata": {},
   "outputs": [
    {
     "name": "stdout",
     "output_type": "stream",
     "text": [
      "200 : OK\n",
      "{'id': 0, 'name': 'My first video', 'views': 2000, 'likes': 10}\n",
      "200 : OK\n",
      "{'id': 1, 'name': 'How 2 git gud at DE:UK', 'views': 666777, 'likes': 1069}\n",
      "404 : NOT FOUND\n"
     ]
    }
   ],
   "source": [
    "for i in range(len(data)):\n",
    "    response = requests.get(BASE + 'video/' + str(i))\n",
    "    print(response.status_code, ':', response.reason)\n",
    "    if response.status_code == 200:\n",
    "        print(response.json())"
   ]
  },
  {
   "cell_type": "code",
   "execution_count": 45,
   "metadata": {},
   "outputs": [
    {
     "name": "stdout",
     "output_type": "stream",
     "text": [
      "200\n",
      "{'id': 1, 'name': 'gitgud', 'views': 666777, 'likes': 6969}\n"
     ]
    }
   ],
   "source": [
    "patch_response = requests.patch(BASE + 'video/1', {'likes': 6969, 'name': 'gitgud'})\n",
    "print(patch_response.status_code)\n",
    "try:\n",
    "    print(patch_response.json())\n",
    "except:\n",
    "    pass\n"
   ]
  },
  {
   "cell_type": "code",
   "execution_count": 50,
   "metadata": {},
   "outputs": [
    {
     "name": "stdout",
     "output_type": "stream",
     "text": [
      "200\n",
      "\n"
     ]
    }
   ],
   "source": [
    "delete_response = requests.delete(BASE + 'video/2')\n",
    "print(delete_response.status_code)\n",
    "try:\n",
    "    print(delete_response.json())\n",
    "except:\n",
    "    print(delete_response)"
   ]
  },
  {
   "cell_type": "code",
   "execution_count": 58,
   "metadata": {},
   "outputs": [
    {
     "name": "stdout",
     "output_type": "stream",
     "text": [
      "200\n",
      "\n"
     ]
    }
   ],
   "source": [
    "delete_response = requests.delete(BASE + 'video/69')\n",
    "print(delete_response.status_code)\n",
    "try:\n",
    "    print(delete_response.json())\n",
    "except:\n",
    "    print(delete_response)"
   ]
  },
  {
   "cell_type": "code",
   "execution_count": 71,
   "metadata": {},
   "outputs": [
    {
     "name": "stdout",
     "output_type": "stream",
     "text": [
      "404\n",
      "{'message': 'Video ID not found', 'status': 404}\n"
     ]
    }
   ],
   "source": [
    "delete_response = requests.delete(BASE + 'video/2')\n",
    "print(delete_response.status_code)\n",
    "try:\n",
    "    print(delete_response.json())\n",
    "except:\n",
    "    print(delete_response)"
   ]
  },
  {
   "cell_type": "code",
   "execution_count": null,
   "metadata": {},
   "outputs": [],
   "source": []
  }
 ],
 "metadata": {
  "kernelspec": {
   "display_name": "venv",
   "language": "python",
   "name": "python3"
  },
  "language_info": {
   "codemirror_mode": {
    "name": "ipython",
    "version": 3
   },
   "file_extension": ".py",
   "mimetype": "text/x-python",
   "name": "python",
   "nbconvert_exporter": "python",
   "pygments_lexer": "ipython3",
   "version": "3.11.3"
  },
  "orig_nbformat": 4
 },
 "nbformat": 4,
 "nbformat_minor": 2
}
