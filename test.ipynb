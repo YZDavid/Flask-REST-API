{
 "cells": [
  {
   "cell_type": "code",
   "execution_count": 2,
   "metadata": {},
   "outputs": [],
   "source": [
    "import requests"
   ]
  },
  {
   "cell_type": "code",
   "execution_count": 3,
   "metadata": {},
   "outputs": [],
   "source": [
    "BASE = 'http://localhost:5000/'"
   ]
  },
  {
   "cell_type": "code",
   "execution_count": 13,
   "metadata": {},
   "outputs": [
    {
     "name": "stdout",
     "output_type": "stream",
     "text": [
      "<class 'requests.models.Response'>\n",
      "{'name': 'My first video', 'likes': 10, 'views': 2000}\n",
      "201 : CREATED\n"
     ]
    }
   ],
   "source": [
    "payload = {'likes': 10, 'views': 2000, 'name': 'My first video'}\n",
    "put_response = requests.put(BASE + 'video/1', payload)\n",
    "print(type(put_response))\n",
    "print(put_response.json())\n",
    "print(put_response.status_code, ':', put_response.reason)"
   ]
  },
  {
   "cell_type": "code",
   "execution_count": 14,
   "metadata": {},
   "outputs": [
    {
     "name": "stdout",
     "output_type": "stream",
     "text": [
      "<class 'requests.models.Response'>\n",
      "{'name': 'My second video', 'likes': 200, 'views': 69420}\n",
      "201 : CREATED\n"
     ]
    }
   ],
   "source": [
    "payload = {'likes': 200, 'views': 69420, 'name': 'My second video'}\n",
    "put_response = requests.put(BASE + 'video/2', payload)\n",
    "print(type(put_response))\n",
    "print(put_response.json())\n",
    "print(put_response.status_code, ':', put_response.reason)"
   ]
  },
  {
   "cell_type": "code",
   "execution_count": 6,
   "metadata": {},
   "outputs": [
    {
     "name": "stdout",
     "output_type": "stream",
     "text": [
      "<class 'requests.models.Response'>\n",
      "{'data': 'Sent via POST'}\n",
      "200 : OK\n"
     ]
    }
   ],
   "source": [
    "response = requests.post(BASE + 'video/1')\n",
    "print(type(response))\n",
    "print(response.json())\n",
    "print(response.status_code, ':', response.reason)"
   ]
  },
  {
   "cell_type": "code",
   "execution_count": 17,
   "metadata": {},
   "outputs": [
    {
     "name": "stdout",
     "output_type": "stream",
     "text": [
      "<class 'requests.models.Response'>\n",
      "404 : NOT FOUND\n"
     ]
    }
   ],
   "source": [
    "response = requests.get(BASE + 'video/4')\n",
    "print(type(response))\n",
    "print(response.status_code, ':', response.reason)\n",
    "if response.status_code == 200:\n",
    "    print(response.json())"
   ]
  }
 ],
 "metadata": {
  "kernelspec": {
   "display_name": "venv",
   "language": "python",
   "name": "python3"
  },
  "language_info": {
   "codemirror_mode": {
    "name": "ipython",
    "version": 3
   },
   "file_extension": ".py",
   "mimetype": "text/x-python",
   "name": "python",
   "nbconvert_exporter": "python",
   "pygments_lexer": "ipython3",
   "version": "3.11.3"
  },
  "orig_nbformat": 4
 },
 "nbformat": 4,
 "nbformat_minor": 2
}
